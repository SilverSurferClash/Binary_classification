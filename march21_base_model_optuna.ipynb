{
  "metadata": {
    "kernelspec": {
      "language": "python",
      "display_name": "Python 3",
      "name": "python3"
    },
    "language_info": {
      "name": "python",
      "version": "3.7.12",
      "mimetype": "text/x-python",
      "codemirror_mode": {
        "name": "ipython",
        "version": 3
      },
      "pygments_lexer": "ipython3",
      "nbconvert_exporter": "python",
      "file_extension": ".py"
    },
    "colab": {
      "provenance": [],
      "include_colab_link": true
    }
  },
  "nbformat_minor": 0,
  "nbformat": 4,
  "cells": [
    {
      "cell_type": "markdown",
      "metadata": {
        "id": "view-in-github",
        "colab_type": "text"
      },
      "source": [
        "<a href=\"https://colab.research.google.com/github/SilverSurferClash/Binary_classification/blob/main/march21_base_model_optuna.ipynb\" target=\"_parent\"><img src=\"https://colab.research.google.com/assets/colab-badge.svg\" alt=\"Open In Colab\"/></a>"
      ]
    },
    {
      "cell_type": "code",
      "source": [
        "from google.colab import drive\n",
        "drive.mount('/content/drive')\n",
        "from google.colab import files"
      ],
      "metadata": {
        "colab": {
          "base_uri": "https://localhost:8080/"
        },
        "id": "5JLdA79jb0GV",
        "outputId": "c0989104-e44a-4c68-ee94-c826aec30df2"
      },
      "execution_count": 2,
      "outputs": [
        {
          "output_type": "stream",
          "name": "stdout",
          "text": [
            "Mounted at /content/drive\n"
          ]
        }
      ]
    },
    {
      "cell_type": "code",
      "source": [
        "!pip install category_encoders"
      ],
      "metadata": {
        "colab": {
          "base_uri": "https://localhost:8080/"
        },
        "id": "j2QmREhhbXO3",
        "outputId": "3360b219-0d2c-4a6f-ea3e-d593fd1a3ee8"
      },
      "execution_count": 5,
      "outputs": [
        {
          "output_type": "stream",
          "name": "stdout",
          "text": [
            "Looking in indexes: https://pypi.org/simple, https://us-python.pkg.dev/colab-wheels/public/simple/\n",
            "Collecting category_encoders\n",
            "  Downloading category_encoders-2.5.1.post0-py2.py3-none-any.whl (72 kB)\n",
            "\u001b[?25l\r\u001b[K     |████▌                           | 10 kB 18.1 MB/s eta 0:00:01\r\u001b[K     |█████████                       | 20 kB 4.9 MB/s eta 0:00:01\r\u001b[K     |█████████████▋                  | 30 kB 6.9 MB/s eta 0:00:01\r\u001b[K     |██████████████████              | 40 kB 3.8 MB/s eta 0:00:01\r\u001b[K     |██████████████████████▋         | 51 kB 4.2 MB/s eta 0:00:01\r\u001b[K     |███████████████████████████▏    | 61 kB 4.9 MB/s eta 0:00:01\r\u001b[K     |███████████████████████████████▊| 71 kB 5.4 MB/s eta 0:00:01\r\u001b[K     |████████████████████████████████| 72 kB 644 kB/s \n",
            "\u001b[?25hRequirement already satisfied: numpy>=1.14.0 in /usr/local/lib/python3.8/dist-packages (from category_encoders) (1.21.6)\n",
            "Requirement already satisfied: statsmodels>=0.9.0 in /usr/local/lib/python3.8/dist-packages (from category_encoders) (0.12.2)\n",
            "Requirement already satisfied: scikit-learn>=0.20.0 in /usr/local/lib/python3.8/dist-packages (from category_encoders) (1.0.2)\n",
            "Requirement already satisfied: patsy>=0.5.1 in /usr/local/lib/python3.8/dist-packages (from category_encoders) (0.5.3)\n",
            "Requirement already satisfied: scipy>=1.0.0 in /usr/local/lib/python3.8/dist-packages (from category_encoders) (1.7.3)\n",
            "Requirement already satisfied: pandas>=1.0.5 in /usr/local/lib/python3.8/dist-packages (from category_encoders) (1.3.5)\n",
            "Requirement already satisfied: pytz>=2017.3 in /usr/local/lib/python3.8/dist-packages (from pandas>=1.0.5->category_encoders) (2022.6)\n",
            "Requirement already satisfied: python-dateutil>=2.7.3 in /usr/local/lib/python3.8/dist-packages (from pandas>=1.0.5->category_encoders) (2.8.2)\n",
            "Requirement already satisfied: six in /usr/local/lib/python3.8/dist-packages (from patsy>=0.5.1->category_encoders) (1.15.0)\n",
            "Requirement already satisfied: joblib>=0.11 in /usr/local/lib/python3.8/dist-packages (from scikit-learn>=0.20.0->category_encoders) (1.2.0)\n",
            "Requirement already satisfied: threadpoolctl>=2.0.0 in /usr/local/lib/python3.8/dist-packages (from scikit-learn>=0.20.0->category_encoders) (3.1.0)\n",
            "Installing collected packages: category-encoders\n",
            "Successfully installed category-encoders-2.5.1.post0\n"
          ]
        }
      ]
    },
    {
      "cell_type": "code",
      "source": [
        "!pip install catboost"
      ],
      "metadata": {
        "colab": {
          "base_uri": "https://localhost:8080/"
        },
        "id": "n5FSc0cabJz6",
        "outputId": "31f54a51-b4f3-44af-bdd2-e7868b7ce392"
      },
      "execution_count": 6,
      "outputs": [
        {
          "output_type": "stream",
          "name": "stdout",
          "text": [
            "Looking in indexes: https://pypi.org/simple, https://us-python.pkg.dev/colab-wheels/public/simple/\n",
            "Collecting catboost\n",
            "  Downloading catboost-1.1.1-cp38-none-manylinux1_x86_64.whl (76.6 MB)\n",
            "\u001b[K     |████████████████████████████████| 76.6 MB 1.3 MB/s \n",
            "\u001b[?25hRequirement already satisfied: pandas>=0.24.0 in /usr/local/lib/python3.8/dist-packages (from catboost) (1.3.5)\n",
            "Requirement already satisfied: plotly in /usr/local/lib/python3.8/dist-packages (from catboost) (5.5.0)\n",
            "Requirement already satisfied: scipy in /usr/local/lib/python3.8/dist-packages (from catboost) (1.7.3)\n",
            "Requirement already satisfied: matplotlib in /usr/local/lib/python3.8/dist-packages (from catboost) (3.2.2)\n",
            "Requirement already satisfied: six in /usr/local/lib/python3.8/dist-packages (from catboost) (1.15.0)\n",
            "Requirement already satisfied: numpy>=1.16.0 in /usr/local/lib/python3.8/dist-packages (from catboost) (1.21.6)\n",
            "Requirement already satisfied: graphviz in /usr/local/lib/python3.8/dist-packages (from catboost) (0.10.1)\n",
            "Requirement already satisfied: python-dateutil>=2.7.3 in /usr/local/lib/python3.8/dist-packages (from pandas>=0.24.0->catboost) (2.8.2)\n",
            "Requirement already satisfied: pytz>=2017.3 in /usr/local/lib/python3.8/dist-packages (from pandas>=0.24.0->catboost) (2022.6)\n",
            "Requirement already satisfied: kiwisolver>=1.0.1 in /usr/local/lib/python3.8/dist-packages (from matplotlib->catboost) (1.4.4)\n",
            "Requirement already satisfied: pyparsing!=2.0.4,!=2.1.2,!=2.1.6,>=2.0.1 in /usr/local/lib/python3.8/dist-packages (from matplotlib->catboost) (3.0.9)\n",
            "Requirement already satisfied: cycler>=0.10 in /usr/local/lib/python3.8/dist-packages (from matplotlib->catboost) (0.11.0)\n",
            "Requirement already satisfied: tenacity>=6.2.0 in /usr/local/lib/python3.8/dist-packages (from plotly->catboost) (8.1.0)\n",
            "Installing collected packages: catboost\n",
            "Successfully installed catboost-1.1.1\n"
          ]
        }
      ]
    },
    {
      "cell_type": "code",
      "source": [
        "!pip install optuna"
      ],
      "metadata": {
        "colab": {
          "base_uri": "https://localhost:8080/"
        },
        "id": "CPIclnMYcjnD",
        "outputId": "da64ea66-7541-4845-f726-ca2caec93045"
      },
      "execution_count": 3,
      "outputs": [
        {
          "output_type": "stream",
          "name": "stdout",
          "text": [
            "Looking in indexes: https://pypi.org/simple, https://us-python.pkg.dev/colab-wheels/public/simple/\n",
            "Collecting optuna\n",
            "  Downloading optuna-3.0.5-py3-none-any.whl (348 kB)\n",
            "\u001b[K     |████████████████████████████████| 348 kB 4.8 MB/s \n",
            "\u001b[?25hRequirement already satisfied: tqdm in /usr/local/lib/python3.8/dist-packages (from optuna) (4.64.1)\n",
            "Requirement already satisfied: PyYAML in /usr/local/lib/python3.8/dist-packages (from optuna) (6.0)\n",
            "Requirement already satisfied: sqlalchemy>=1.3.0 in /usr/local/lib/python3.8/dist-packages (from optuna) (1.4.45)\n",
            "Collecting importlib-metadata<5.0.0\n",
            "  Downloading importlib_metadata-4.13.0-py3-none-any.whl (23 kB)\n",
            "Collecting alembic>=1.5.0\n",
            "  Downloading alembic-1.9.1-py3-none-any.whl (210 kB)\n",
            "\u001b[K     |████████████████████████████████| 210 kB 28.7 MB/s \n",
            "\u001b[?25hRequirement already satisfied: scipy<1.9.0,>=1.7.0 in /usr/local/lib/python3.8/dist-packages (from optuna) (1.7.3)\n",
            "Requirement already satisfied: packaging>=20.0 in /usr/local/lib/python3.8/dist-packages (from optuna) (21.3)\n",
            "Collecting colorlog\n",
            "  Downloading colorlog-6.7.0-py2.py3-none-any.whl (11 kB)\n",
            "Collecting cmaes>=0.8.2\n",
            "  Downloading cmaes-0.9.0-py3-none-any.whl (23 kB)\n",
            "Requirement already satisfied: numpy in /usr/local/lib/python3.8/dist-packages (from optuna) (1.21.6)\n",
            "Collecting cliff\n",
            "  Downloading cliff-4.1.0-py3-none-any.whl (81 kB)\n",
            "\u001b[K     |████████████████████████████████| 81 kB 7.4 MB/s \n",
            "\u001b[?25hCollecting Mako\n",
            "  Downloading Mako-1.2.4-py3-none-any.whl (78 kB)\n",
            "\u001b[K     |████████████████████████████████| 78 kB 5.8 MB/s \n",
            "\u001b[?25hRequirement already satisfied: importlib-resources in /usr/local/lib/python3.8/dist-packages (from alembic>=1.5.0->optuna) (5.10.1)\n",
            "Requirement already satisfied: zipp>=0.5 in /usr/local/lib/python3.8/dist-packages (from importlib-metadata<5.0.0->optuna) (3.11.0)\n",
            "Requirement already satisfied: pyparsing!=3.0.5,>=2.0.2 in /usr/local/lib/python3.8/dist-packages (from packaging>=20.0->optuna) (3.0.9)\n",
            "Requirement already satisfied: greenlet!=0.4.17 in /usr/local/lib/python3.8/dist-packages (from sqlalchemy>=1.3.0->optuna) (2.0.1)\n",
            "Collecting stevedore>=2.0.1\n",
            "  Downloading stevedore-4.1.1-py3-none-any.whl (50 kB)\n",
            "\u001b[K     |████████████████████████████████| 50 kB 4.7 MB/s \n",
            "\u001b[?25hCollecting autopage>=0.4.0\n",
            "  Downloading autopage-0.5.1-py3-none-any.whl (29 kB)\n",
            "Requirement already satisfied: PrettyTable>=0.7.2 in /usr/local/lib/python3.8/dist-packages (from cliff->optuna) (3.5.0)\n",
            "Collecting cmd2>=1.0.0\n",
            "  Downloading cmd2-2.4.2-py3-none-any.whl (147 kB)\n",
            "\u001b[K     |████████████████████████████████| 147 kB 26.7 MB/s \n",
            "\u001b[?25hCollecting pyperclip>=1.6\n",
            "  Downloading pyperclip-1.8.2.tar.gz (20 kB)\n",
            "Requirement already satisfied: wcwidth>=0.1.7 in /usr/local/lib/python3.8/dist-packages (from cmd2>=1.0.0->cliff->optuna) (0.2.5)\n",
            "Requirement already satisfied: attrs>=16.3.0 in /usr/local/lib/python3.8/dist-packages (from cmd2>=1.0.0->cliff->optuna) (22.1.0)\n",
            "Collecting pbr!=2.1.0,>=2.0.0\n",
            "  Downloading pbr-5.11.0-py2.py3-none-any.whl (112 kB)\n",
            "\u001b[K     |████████████████████████████████| 112 kB 41.7 MB/s \n",
            "\u001b[?25hRequirement already satisfied: MarkupSafe>=0.9.2 in /usr/local/lib/python3.8/dist-packages (from Mako->alembic>=1.5.0->optuna) (2.0.1)\n",
            "Building wheels for collected packages: pyperclip\n",
            "  Building wheel for pyperclip (setup.py) ... \u001b[?25l\u001b[?25hdone\n",
            "  Created wheel for pyperclip: filename=pyperclip-1.8.2-py3-none-any.whl size=11136 sha256=62b5ff839158fa075938330ebbf4e1ad2d15841955ff77409558030a7994bda6\n",
            "  Stored in directory: /root/.cache/pip/wheels/7f/1a/65/84ff8c386bec21fca6d220ea1f5498a0367883a78dd5ba6122\n",
            "Successfully built pyperclip\n",
            "Installing collected packages: pyperclip, pbr, stevedore, Mako, importlib-metadata, cmd2, autopage, colorlog, cmaes, cliff, alembic, optuna\n",
            "  Attempting uninstall: importlib-metadata\n",
            "    Found existing installation: importlib-metadata 5.1.0\n",
            "    Uninstalling importlib-metadata-5.1.0:\n",
            "      Successfully uninstalled importlib-metadata-5.1.0\n",
            "Successfully installed Mako-1.2.4 alembic-1.9.1 autopage-0.5.1 cliff-4.1.0 cmaes-0.9.0 cmd2-2.4.2 colorlog-6.7.0 importlib-metadata-4.13.0 optuna-3.0.5 pbr-5.11.0 pyperclip-1.8.2 stevedore-4.1.1\n"
          ]
        }
      ]
    },
    {
      "cell_type": "code",
      "source": [
        "import os\n",
        "import time\n",
        "from pathlib import Path\n",
        "import sys\n",
        "import pickle\n",
        "import joblib\n",
        "\n",
        "#Import data manipulation libaries\n",
        "import numpy as np # linear algebra\n",
        "import pandas as pd # data processing, CSV file I/O (e.g. pd.read_csv)\n",
        "\n",
        "#import ploting libraries\n",
        "import matplotlib.pyplot as plt\n",
        "import seaborn as sns\n",
        "\n",
        "#Splitting the data and cross-validation\n",
        "from sklearn.model_selection import train_test_split, GridSearchCV, cross_validate, cross_val_score,KFold, GroupKFold, StratifiedKFold\n",
        "\n",
        "#Metrics\n",
        "#from sklearn.metrics import classification_report,accuracy_score , roc_auc_score\n",
        "from sklearn.metrics import mean_squared_error, roc_auc_score\n",
        "#Classifiers\n",
        "import xgboost as xgb\n",
        "from lightgbm import LGBMClassifier\n",
        "from catboost import CatBoostClassifier\n",
        "from sklearn.linear_model import LogisticRegression, LinearRegression\n",
        "from sklearn.ensemble import RandomForestClassifier, ExtraTreesClassifier\n",
        "\n",
        "#Feature engineerring\n",
        "from sklearn.preprocessing import FunctionTransformer, StandardScaler, OneHotEncoder\n",
        "from sklearn.pipeline import Pipeline, FeatureUnion\n",
        "from sklearn.compose import ColumnTransformer, make_column_transformer\n",
        "\n",
        "#Encoding\n",
        "\n",
        "import category_encoders as ce"
      ],
      "metadata": {
        "execution": {
          "iopub.status.busy": "2022-12-25T17:31:49.442754Z",
          "iopub.execute_input": "2022-12-25T17:31:49.443233Z",
          "iopub.status.idle": "2022-12-25T17:31:51.021417Z",
          "shell.execute_reply.started": "2022-12-25T17:31:49.443138Z",
          "shell.execute_reply": "2022-12-25T17:31:51.020286Z"
        },
        "trusted": true,
        "id": "IQXHC9XCa-X1"
      },
      "execution_count": 7,
      "outputs": []
    },
    {
      "cell_type": "code",
      "source": [
        "os.getcwd()"
      ],
      "metadata": {
        "colab": {
          "base_uri": "https://localhost:8080/",
          "height": 35
        },
        "id": "qNQbyCeJbDcV",
        "outputId": "4862ab31-0744-4de8-ef2c-91ffd6be9080"
      },
      "execution_count": 8,
      "outputs": [
        {
          "output_type": "execute_result",
          "data": {
            "text/plain": [
              "'/content'"
            ],
            "application/vnd.google.colaboratory.intrinsic+json": {
              "type": "string"
            }
          },
          "metadata": {},
          "execution_count": 8
        }
      ]
    },
    {
      "cell_type": "code",
      "source": [
        "os.chdir(\"/content/drive/MyDrive/Colab_Notebooks/Feb_21\")"
      ],
      "metadata": {
        "id": "Z-lZVAB2cD49"
      },
      "execution_count": 9,
      "outputs": []
    },
    {
      "cell_type": "code",
      "source": [
        "#Optuna optimization\n",
        "\n",
        "import optuna\n",
        "from optuna import Trial, visualization\n",
        "from optuna.samplers import TPESampler"
      ],
      "metadata": {
        "execution": {
          "iopub.status.busy": "2022-12-25T17:31:51.024262Z",
          "iopub.execute_input": "2022-12-25T17:31:51.024692Z",
          "iopub.status.idle": "2022-12-25T17:31:51.030198Z",
          "shell.execute_reply.started": "2022-12-25T17:31:51.024651Z",
          "shell.execute_reply": "2022-12-25T17:31:51.028814Z"
        },
        "trusted": true,
        "id": "RGHslgKga-X4"
      },
      "execution_count": 10,
      "outputs": []
    },
    {
      "cell_type": "code",
      "source": [
        "train_import = pd.read_csv(\"train.csv\")\n",
        "test_import = pd.read_csv(\"test.csv\")"
      ],
      "metadata": {
        "id": "eCmdukBHcR0c"
      },
      "execution_count": 11,
      "outputs": []
    },
    {
      "cell_type": "code",
      "source": [
        "def reduce_mem_usage(props):\n",
        "    start_mem_usg = props.memory_usage().sum() / 1024**2 \n",
        "    print(\"Memory usage of properties dataframe is :\",start_mem_usg,\" MB\")\n",
        "    NAlist = [] # Keeps track of columns that have missing values filled in. \n",
        "    for col in props.columns:\n",
        "        if props[col].dtype != object:  # Exclude strings\n",
        "            \n",
        "            # Print current column type\n",
        "            print(\"******************************\")\n",
        "            print(\"Column: \",col)\n",
        "            print(\"dtype before: \",props[col].dtype)\n",
        "                # make variables for Int, max and min\n",
        "            IsInt = False\n",
        "            mx = props[col].max()\n",
        "            mn = props[col].min()\n",
        "            \n",
        "            # Integer does not support NA, therefore, NA needs to be filled\n",
        "            if not np.isfinite(props[col]).all(): \n",
        "                NAlist.append(col)\n",
        "                props[col].fillna(mn-1,inplace=True)  \n",
        "                   \n",
        "            # test if column can be converted to an integer\n",
        "            asint = props[col].fillna(0).astype(np.int64)\n",
        "            result = (props[col] - asint)\n",
        "            result = result.sum()\n",
        "            if result > -0.01 and result < 0.01:\n",
        "                IsInt = True\n",
        "                # Make Integer/unsigned Integer datatypes\n",
        "            if IsInt:\n",
        "                if mn >= 0:\n",
        "                    if mx < 255:\n",
        "                        props[col] = props[col].astype(np.uint8)\n",
        "                    elif mx < 65535:\n",
        "                        props[col] = props[col].astype(np.uint16)\n",
        "                    elif mx < 4294967295:\n",
        "                        props[col] = props[col].astype(np.uint32)\n",
        "                    else:\n",
        "                        props[col] = props[col].astype(np.uint64)\n",
        "                else:\n",
        "                    if mn > np.iinfo(np.int8).min and mx < np.iinfo(np.int8).max:\n",
        "                        props[col] = props[col].astype(np.int8)\n",
        "                    elif mn > np.iinfo(np.int16).min and mx < np.iinfo(np.int16).max:\n",
        "                        props[col] = props[col].astype(np.int16)\n",
        "                    elif mn > np.iinfo(np.int32).min and mx < np.iinfo(np.int32).max:\n",
        "                        props[col] = props[col].astype(np.int32)\n",
        "                    elif mn > np.iinfo(np.int64).min and mx < np.iinfo(np.int64).max:\n",
        "                        props[col] = props[col].astype(np.int64)\n",
        "                          # Make float datatypes 32 bit\n",
        "            else:\n",
        "                props[col] = props[col].astype(np.float32)\n",
        "            \n",
        "            # Print new column type\n",
        "            print(\"dtype after: \",props[col].dtype)\n",
        "            print(\"******************************\")\n",
        "    \n",
        "    # Print final result\n",
        "    print(\"___MEMORY USAGE AFTER COMPLETION:___\")\n",
        "    mem_usg = props.memory_usage().sum() / 1024**2 \n",
        "    print(\"Memory usage is: \",mem_usg,\" MB\")\n",
        "    print(\"This is \",100*mem_usg/start_mem_usg,\"% of the initial size\")\n",
        "    return props, NAlist"
      ],
      "metadata": {
        "execution": {
          "iopub.status.busy": "2022-12-25T17:31:52.837433Z",
          "iopub.execute_input": "2022-12-25T17:31:52.838219Z",
          "iopub.status.idle": "2022-12-25T17:31:52.855898Z",
          "shell.execute_reply.started": "2022-12-25T17:31:52.838178Z",
          "shell.execute_reply": "2022-12-25T17:31:52.854787Z"
        },
        "trusted": true,
        "id": "32JBbJK_a-X4"
      },
      "execution_count": 12,
      "outputs": []
    },
    {
      "cell_type": "code",
      "source": [
        "#reduce_mem_usage(train_import)"
      ],
      "metadata": {
        "execution": {
          "iopub.status.busy": "2022-12-25T17:31:52.857168Z",
          "iopub.execute_input": "2022-12-25T17:31:52.857580Z",
          "iopub.status.idle": "2022-12-25T17:31:52.869422Z",
          "shell.execute_reply.started": "2022-12-25T17:31:52.857541Z",
          "shell.execute_reply": "2022-12-25T17:31:52.868403Z"
        },
        "trusted": true,
        "id": "naBkxlgAa-X5"
      },
      "execution_count": 13,
      "outputs": []
    },
    {
      "cell_type": "code",
      "source": [
        "# List of colums based on their function\n",
        "# Target\n",
        "target_label  = \"target\"\n",
        "# List of all features\n",
        "all_feature = [col for col in train_import.columns if col not in [\"target\", \"id\"]]\n",
        "# List of numeric features\n",
        "all_numeric = [col for col in all_feature if train_import[col].dtype == \"float64\"]\n",
        "# List of all categorical features\n",
        "all_categorical = [col for col in all_feature if train_import[col].dtype == \"object\"]\n",
        "\n",
        "high_cardinal = \"cat10\"\n",
        "\n",
        "low_cardinal = ['cat0',\n",
        " 'cat1',\n",
        " 'cat2',\n",
        " 'cat3',\n",
        " 'cat4',\n",
        " 'cat5',\n",
        " 'cat6',\n",
        " 'cat7',\n",
        " 'cat8',\n",
        " 'cat9',\n",
        " 'cat11',\n",
        " 'cat12',\n",
        " 'cat13',\n",
        " 'cat14',\n",
        " 'cat15',\n",
        " 'cat16',\n",
        " 'cat17',\n",
        " 'cat18']"
      ],
      "metadata": {
        "execution": {
          "iopub.status.busy": "2022-12-25T17:31:52.870836Z",
          "iopub.execute_input": "2022-12-25T17:31:52.871349Z",
          "iopub.status.idle": "2022-12-25T17:31:52.882828Z",
          "shell.execute_reply.started": "2022-12-25T17:31:52.871312Z",
          "shell.execute_reply": "2022-12-25T17:31:52.881791Z"
        },
        "trusted": true,
        "id": "nWLarjbQa-X5"
      },
      "execution_count": 14,
      "outputs": []
    },
    {
      "cell_type": "code",
      "source": [
        "#Create the training feature matrix, the training feature labels and the same for the\n",
        "#validation set\n",
        "train = train_import.sample(frac = 0.1).copy().reset_index()\n",
        "train_X = train.loc[:, all_feature]\n",
        "train_y = train.loc[:, target_label].values\n",
        "test_X = test_import.loc[:, all_feature]\n",
        "train_X.shape, train_y.shape, test_X.shape"
      ],
      "metadata": {
        "execution": {
          "iopub.status.busy": "2022-12-25T17:31:52.884171Z",
          "iopub.execute_input": "2022-12-25T17:31:52.884663Z",
          "iopub.status.idle": "2022-12-25T17:31:53.497250Z",
          "shell.execute_reply.started": "2022-12-25T17:31:52.884599Z",
          "shell.execute_reply": "2022-12-25T17:31:53.496144Z"
        },
        "trusted": true,
        "colab": {
          "base_uri": "https://localhost:8080/"
        },
        "id": "etg5O7y9a-X5",
        "outputId": "d5e7748d-8416-48ec-d06f-370641a16013"
      },
      "execution_count": 15,
      "outputs": [
        {
          "output_type": "execute_result",
          "data": {
            "text/plain": [
              "((30000, 30), (30000,), (200000, 30))"
            ]
          },
          "metadata": {},
          "execution_count": 15
        }
      ]
    },
    {
      "cell_type": "code",
      "source": [
        "# Helper Code to make the code adaptible for the future\n",
        "train_split_X = train_X.copy()\n",
        "train_split_y = pd.DataFrame(train_y.copy())"
      ],
      "metadata": {
        "execution": {
          "iopub.status.busy": "2022-12-25T17:31:53.499033Z",
          "iopub.execute_input": "2022-12-25T17:31:53.499744Z",
          "iopub.status.idle": "2022-12-25T17:31:53.592960Z",
          "shell.execute_reply.started": "2022-12-25T17:31:53.499701Z",
          "shell.execute_reply": "2022-12-25T17:31:53.591969Z"
        },
        "trusted": true,
        "id": "lXRBTF8Ba-X6"
      },
      "execution_count": 16,
      "outputs": []
    },
    {
      "cell_type": "code",
      "source": [
        "#Set up validation scheme\n",
        "n_folds = 2\n",
        "splitter = StratifiedKFold(n_splits=n_folds)"
      ],
      "metadata": {
        "execution": {
          "iopub.status.busy": "2022-12-25T17:31:53.594564Z",
          "iopub.execute_input": "2022-12-25T17:31:53.594980Z",
          "iopub.status.idle": "2022-12-25T17:31:53.600030Z",
          "shell.execute_reply.started": "2022-12-25T17:31:53.594938Z",
          "shell.execute_reply": "2022-12-25T17:31:53.599029Z"
        },
        "trusted": true,
        "id": "1Gya9C8fa-X6"
      },
      "execution_count": 17,
      "outputs": []
    },
    {
      "cell_type": "code",
      "source": [
        "preprocess_continuous = Pipeline(steps=[('scaler', StandardScaler())])\n",
        "\n",
        "preprocess_low_cardinal = Pipeline(steps=[('low_card',\n",
        "ce.OneHotEncoder(cols=low_cardinal))])\n",
        "\n",
        "preprocess_high_cardinality = Pipeline(steps=[('high_cardinal',\n",
        "ce.TargetEncoder(cols = high_cardinal))])"
      ],
      "metadata": {
        "execution": {
          "iopub.status.busy": "2022-12-25T17:31:53.603931Z",
          "iopub.execute_input": "2022-12-25T17:31:53.604652Z",
          "iopub.status.idle": "2022-12-25T17:31:53.621470Z",
          "shell.execute_reply.started": "2022-12-25T17:31:53.604588Z",
          "shell.execute_reply": "2022-12-25T17:31:53.620264Z"
        },
        "trusted": true,
        "colab": {
          "base_uri": "https://localhost:8080/"
        },
        "id": "i5fGZEzTa-X6",
        "outputId": "50d24c36-500f-400e-bcd8-70094f88773f"
      },
      "execution_count": 18,
      "outputs": [
        {
          "output_type": "stream",
          "name": "stderr",
          "text": [
            "/usr/local/lib/python3.8/dist-packages/category_encoders/target_encoder.py:122: FutureWarning: Default parameter min_samples_leaf will change in version 2.6.See https://github.com/scikit-learn-contrib/category_encoders/issues/327\n",
            "  warnings.warn(\"Default parameter min_samples_leaf will change in version 2.6.\"\n",
            "/usr/local/lib/python3.8/dist-packages/category_encoders/target_encoder.py:127: FutureWarning: Default parameter smoothing will change in version 2.6.See https://github.com/scikit-learn-contrib/category_encoders/issues/327\n",
            "  warnings.warn(\"Default parameter smoothing will change in version 2.6.\"\n"
          ]
        }
      ]
    },
    {
      "cell_type": "code",
      "source": [
        "ct = ColumnTransformer(\n",
        "transformers=[('continuous', #A\n",
        "preprocess_continuous, all_numeric),\n",
        "('low_card', #B\n",
        "preprocess_low_cardinal,low_cardinal),\n",
        "   (\"high_card\", \n",
        "   preprocess_high_cardinality, high_cardinal)],\n",
        "remainder='passthrough')"
      ],
      "metadata": {
        "execution": {
          "iopub.status.busy": "2022-12-25T17:31:53.623079Z",
          "iopub.execute_input": "2022-12-25T17:31:53.623836Z",
          "iopub.status.idle": "2022-12-25T17:31:53.631381Z",
          "shell.execute_reply.started": "2022-12-25T17:31:53.623794Z",
          "shell.execute_reply": "2022-12-25T17:31:53.630214Z"
        },
        "trusted": true,
        "id": "Q9cUKTjta-X6"
      },
      "execution_count": 19,
      "outputs": []
    },
    {
      "cell_type": "code",
      "source": [
        "model = xgb.XGBClassifier(objective=\"binary:logistic\", random_state=42, tree_method = 'gpu_hist' )"
      ],
      "metadata": {
        "execution": {
          "iopub.status.busy": "2022-12-25T17:33:03.854376Z",
          "iopub.execute_input": "2022-12-25T17:33:03.854819Z",
          "iopub.status.idle": "2022-12-25T17:33:03.859976Z",
          "shell.execute_reply.started": "2022-12-25T17:33:03.854781Z",
          "shell.execute_reply": "2022-12-25T17:33:03.858881Z"
        },
        "trusted": true,
        "id": "gKJpkkJpa-X6"
      },
      "execution_count": 20,
      "outputs": []
    },
    {
      "cell_type": "code",
      "source": [
        "#model = LGBMClassifier(device = 'gpu')"
      ],
      "metadata": {
        "execution": {
          "iopub.status.busy": "2022-12-25T17:31:53.799471Z",
          "iopub.status.idle": "2022-12-25T17:31:53.800289Z",
          "shell.execute_reply.started": "2022-12-25T17:31:53.800007Z",
          "shell.execute_reply": "2022-12-25T17:31:53.800033Z"
        },
        "trusted": true,
        "id": "YT88-2nya-X7"
      },
      "execution_count": 21,
      "outputs": []
    },
    {
      "cell_type": "code",
      "source": [
        "#model = LogisticRegression(max_iter=100)"
      ],
      "metadata": {
        "execution": {
          "iopub.status.busy": "2022-12-25T17:31:53.801763Z",
          "iopub.status.idle": "2022-12-25T17:31:53.802526Z",
          "shell.execute_reply.started": "2022-12-25T17:31:53.802257Z",
          "shell.execute_reply": "2022-12-25T17:31:53.802283Z"
        },
        "trusted": true,
        "id": "Mj2SofS5a-X7"
      },
      "execution_count": 22,
      "outputs": []
    },
    {
      "cell_type": "code",
      "source": [
        "#model = CatBoostClassifier(loss_function=\"Logloss\",eval_metric=\"AUC\",task_type=\"GPU\")"
      ],
      "metadata": {
        "execution": {
          "iopub.status.busy": "2022-12-25T17:31:53.803931Z",
          "iopub.status.idle": "2022-12-25T17:31:53.804765Z",
          "shell.execute_reply.started": "2022-12-25T17:31:53.804468Z",
          "shell.execute_reply": "2022-12-25T17:31:53.804495Z"
        },
        "trusted": true,
        "id": "mHFh2wSYa-X7"
      },
      "execution_count": 23,
      "outputs": []
    },
    {
      "cell_type": "code",
      "source": [
        "#Optuna XGB\n",
        "def objective(trial,data=train_split_X,target=train_split_y):\n",
        "    \n",
        "    train_x, val_x, train_y, test_y = train_test_split(data, target, test_size=0.2,random_state=42)\n",
        "\n",
        "\n",
        "    param = {\n",
        "        'n_estimators': trial.suggest_int('n_estimators', 50, 500, 50),\n",
        "        'max_depth': trial.suggest_int('max_depth', 2,15,1),\n",
        "        'min_child_weight': trial.suggest_int('min_child_weight', 1, 100,5),\n",
        "        'subsample': trial.suggest_float('subsample', 0.5, 1.0),\n",
        "        'colsample_bytree': trial.suggest_float('colsample_bytree', 0.1, 1.0),\n",
        "        'gamma': trial.suggest_loguniform('gamma', 1e-8, 100.0),\n",
        "        'alpha': trial.suggest_loguniform('alpha', 1e-8, 100.0),\n",
        "        'lambda': trial.suggest_loguniform('lambda', 1e-8, 100.0),\n",
        "        \n",
        "        'learning_rate': trial.suggest_float('learning_rate', 1e-3, 0.2, log=True),\n",
        "    }\n",
        "    Xtrain_prepocessed = ct.fit_transform(train_x, train_y.values.ravel())\n",
        "    Xval_preprocessed = ct.transform(val_x)\n",
        "    model = xgb.XGBClassifier(**param)\n",
        "    model.fit(Xtrain_prepocessed, train_y.values.ravel(),\n",
        "             verbose = False,\n",
        "             eval_set = [(Xtrain_prepocessed, train_y.values.ravel()), (Xval_preprocessed, test_y.values.ravel())],\n",
        "             eval_metric = \"auc\",\n",
        "             early_stopping_rounds = 100)\n",
        "\n",
        "    \n",
        "\n",
        "    valid_pred = model.predict_proba(Xval_preprocessed)[:,1]\n",
        "    valid_score = roc_auc_score(test_y, valid_pred)\n",
        "\n",
        "    return valid_score\n",
        "    \n"
      ],
      "metadata": {
        "execution": {
          "iopub.status.busy": "2022-12-25T17:33:22.746938Z",
          "iopub.execute_input": "2022-12-25T17:33:22.748379Z",
          "iopub.status.idle": "2022-12-25T17:33:22.764660Z",
          "shell.execute_reply.started": "2022-12-25T17:33:22.748333Z",
          "shell.execute_reply": "2022-12-25T17:33:22.762546Z"
        },
        "trusted": true,
        "id": "JVJ7PokDa-X7"
      },
      "execution_count": 26,
      "outputs": []
    },
    {
      "cell_type": "code",
      "source": [
        "study = optuna.create_study(direction=\"maximize\")\n",
        "study.optimize(objective, n_trials=10)"
      ],
      "metadata": {
        "execution": {
          "iopub.status.busy": "2022-12-25T17:33:28.531848Z",
          "iopub.execute_input": "2022-12-25T17:33:28.532229Z",
          "iopub.status.idle": "2022-12-25T17:50:15.961592Z",
          "shell.execute_reply.started": "2022-12-25T17:33:28.532196Z",
          "shell.execute_reply": "2022-12-25T17:50:15.959685Z"
        },
        "trusted": true,
        "colab": {
          "base_uri": "https://localhost:8080/"
        },
        "id": "NuwsivQUa-X7",
        "outputId": "fd385b2e-4476-4036-b7ea-d4d97bd341e5"
      },
      "execution_count": 27,
      "outputs": [
        {
          "output_type": "stream",
          "name": "stderr",
          "text": [
            "\u001b[32m[I 2022-12-25 19:16:27,122]\u001b[0m A new study created in memory with name: no-name-91f2ffbd-3e45-427a-becd-041201296778\u001b[0m\n",
            "<ipython-input-26-7593a2a3afbc>:13: FutureWarning: suggest_loguniform has been deprecated in v3.0.0. This feature will be removed in v6.0.0. See https://github.com/optuna/optuna/releases/tag/v3.0.0. Use :func:`~optuna.trial.Trial.suggest_float` instead.\n",
            "  'gamma': trial.suggest_loguniform('gamma', 1e-8, 100.0),\n",
            "<ipython-input-26-7593a2a3afbc>:14: FutureWarning: suggest_loguniform has been deprecated in v3.0.0. This feature will be removed in v6.0.0. See https://github.com/optuna/optuna/releases/tag/v3.0.0. Use :func:`~optuna.trial.Trial.suggest_float` instead.\n",
            "  'alpha': trial.suggest_loguniform('alpha', 1e-8, 100.0),\n",
            "<ipython-input-26-7593a2a3afbc>:15: FutureWarning: suggest_loguniform has been deprecated in v3.0.0. This feature will be removed in v6.0.0. See https://github.com/optuna/optuna/releases/tag/v3.0.0. Use :func:`~optuna.trial.Trial.suggest_float` instead.\n",
            "  'lambda': trial.suggest_loguniform('lambda', 1e-8, 100.0),\n",
            "/usr/local/lib/python3.8/dist-packages/category_encoders/target_encoder.py:122: FutureWarning: Default parameter min_samples_leaf will change in version 2.6.See https://github.com/scikit-learn-contrib/category_encoders/issues/327\n",
            "  warnings.warn(\"Default parameter min_samples_leaf will change in version 2.6.\"\n",
            "/usr/local/lib/python3.8/dist-packages/category_encoders/target_encoder.py:127: FutureWarning: Default parameter smoothing will change in version 2.6.See https://github.com/scikit-learn-contrib/category_encoders/issues/327\n",
            "  warnings.warn(\"Default parameter smoothing will change in version 2.6.\"\n",
            "\u001b[32m[I 2022-12-25 19:17:47,619]\u001b[0m Trial 0 finished with value: 0.8844148609055261 and parameters: {'n_estimators': 200, 'max_depth': 8, 'min_child_weight': 6, 'subsample': 0.6748845602111476, 'colsample_bytree': 0.48026229190979386, 'gamma': 3.4482032929174458, 'alpha': 8.735870044480578, 'lambda': 2.24291617214607e-08, 'learning_rate': 0.09826615389036654}. Best is trial 0 with value: 0.8844148609055261.\u001b[0m\n",
            "<ipython-input-26-7593a2a3afbc>:13: FutureWarning: suggest_loguniform has been deprecated in v3.0.0. This feature will be removed in v6.0.0. See https://github.com/optuna/optuna/releases/tag/v3.0.0. Use :func:`~optuna.trial.Trial.suggest_float` instead.\n",
            "  'gamma': trial.suggest_loguniform('gamma', 1e-8, 100.0),\n",
            "<ipython-input-26-7593a2a3afbc>:14: FutureWarning: suggest_loguniform has been deprecated in v3.0.0. This feature will be removed in v6.0.0. See https://github.com/optuna/optuna/releases/tag/v3.0.0. Use :func:`~optuna.trial.Trial.suggest_float` instead.\n",
            "  'alpha': trial.suggest_loguniform('alpha', 1e-8, 100.0),\n",
            "<ipython-input-26-7593a2a3afbc>:15: FutureWarning: suggest_loguniform has been deprecated in v3.0.0. This feature will be removed in v6.0.0. See https://github.com/optuna/optuna/releases/tag/v3.0.0. Use :func:`~optuna.trial.Trial.suggest_float` instead.\n",
            "  'lambda': trial.suggest_loguniform('lambda', 1e-8, 100.0),\n",
            "/usr/local/lib/python3.8/dist-packages/category_encoders/target_encoder.py:122: FutureWarning: Default parameter min_samples_leaf will change in version 2.6.See https://github.com/scikit-learn-contrib/category_encoders/issues/327\n",
            "  warnings.warn(\"Default parameter min_samples_leaf will change in version 2.6.\"\n",
            "/usr/local/lib/python3.8/dist-packages/category_encoders/target_encoder.py:127: FutureWarning: Default parameter smoothing will change in version 2.6.See https://github.com/scikit-learn-contrib/category_encoders/issues/327\n",
            "  warnings.warn(\"Default parameter smoothing will change in version 2.6.\"\n",
            "\u001b[32m[I 2022-12-25 19:18:33,106]\u001b[0m Trial 1 finished with value: 0.8780725706187537 and parameters: {'n_estimators': 100, 'max_depth': 8, 'min_child_weight': 57, 'subsample': 0.7356125423163078, 'colsample_bytree': 0.6185597422728609, 'gamma': 1.9082438231483035e-05, 'alpha': 13.422276990737593, 'lambda': 0.009946632393959542, 'learning_rate': 0.02360947697093061}. Best is trial 0 with value: 0.8844148609055261.\u001b[0m\n",
            "<ipython-input-26-7593a2a3afbc>:13: FutureWarning: suggest_loguniform has been deprecated in v3.0.0. This feature will be removed in v6.0.0. See https://github.com/optuna/optuna/releases/tag/v3.0.0. Use :func:`~optuna.trial.Trial.suggest_float` instead.\n",
            "  'gamma': trial.suggest_loguniform('gamma', 1e-8, 100.0),\n",
            "<ipython-input-26-7593a2a3afbc>:14: FutureWarning: suggest_loguniform has been deprecated in v3.0.0. This feature will be removed in v6.0.0. See https://github.com/optuna/optuna/releases/tag/v3.0.0. Use :func:`~optuna.trial.Trial.suggest_float` instead.\n",
            "  'alpha': trial.suggest_loguniform('alpha', 1e-8, 100.0),\n",
            "<ipython-input-26-7593a2a3afbc>:15: FutureWarning: suggest_loguniform has been deprecated in v3.0.0. This feature will be removed in v6.0.0. See https://github.com/optuna/optuna/releases/tag/v3.0.0. Use :func:`~optuna.trial.Trial.suggest_float` instead.\n",
            "  'lambda': trial.suggest_loguniform('lambda', 1e-8, 100.0),\n",
            "/usr/local/lib/python3.8/dist-packages/category_encoders/target_encoder.py:122: FutureWarning: Default parameter min_samples_leaf will change in version 2.6.See https://github.com/scikit-learn-contrib/category_encoders/issues/327\n",
            "  warnings.warn(\"Default parameter min_samples_leaf will change in version 2.6.\"\n",
            "/usr/local/lib/python3.8/dist-packages/category_encoders/target_encoder.py:127: FutureWarning: Default parameter smoothing will change in version 2.6.See https://github.com/scikit-learn-contrib/category_encoders/issues/327\n",
            "  warnings.warn(\"Default parameter smoothing will change in version 2.6.\"\n",
            "\u001b[32m[I 2022-12-25 19:23:19,914]\u001b[0m Trial 2 finished with value: 0.8843071362297423 and parameters: {'n_estimators': 800, 'max_depth': 6, 'min_child_weight': 97, 'subsample': 0.6957416123322845, 'colsample_bytree': 0.9722930482111011, 'gamma': 0.0007286755403272256, 'alpha': 0.005797622050670008, 'lambda': 0.0008493571396114978, 'learning_rate': 0.057335821619401955}. Best is trial 0 with value: 0.8844148609055261.\u001b[0m\n",
            "<ipython-input-26-7593a2a3afbc>:13: FutureWarning: suggest_loguniform has been deprecated in v3.0.0. This feature will be removed in v6.0.0. See https://github.com/optuna/optuna/releases/tag/v3.0.0. Use :func:`~optuna.trial.Trial.suggest_float` instead.\n",
            "  'gamma': trial.suggest_loguniform('gamma', 1e-8, 100.0),\n",
            "<ipython-input-26-7593a2a3afbc>:14: FutureWarning: suggest_loguniform has been deprecated in v3.0.0. This feature will be removed in v6.0.0. See https://github.com/optuna/optuna/releases/tag/v3.0.0. Use :func:`~optuna.trial.Trial.suggest_float` instead.\n",
            "  'alpha': trial.suggest_loguniform('alpha', 1e-8, 100.0),\n",
            "<ipython-input-26-7593a2a3afbc>:15: FutureWarning: suggest_loguniform has been deprecated in v3.0.0. This feature will be removed in v6.0.0. See https://github.com/optuna/optuna/releases/tag/v3.0.0. Use :func:`~optuna.trial.Trial.suggest_float` instead.\n",
            "  'lambda': trial.suggest_loguniform('lambda', 1e-8, 100.0),\n",
            "/usr/local/lib/python3.8/dist-packages/category_encoders/target_encoder.py:122: FutureWarning: Default parameter min_samples_leaf will change in version 2.6.See https://github.com/scikit-learn-contrib/category_encoders/issues/327\n",
            "  warnings.warn(\"Default parameter min_samples_leaf will change in version 2.6.\"\n",
            "/usr/local/lib/python3.8/dist-packages/category_encoders/target_encoder.py:127: FutureWarning: Default parameter smoothing will change in version 2.6.See https://github.com/scikit-learn-contrib/category_encoders/issues/327\n",
            "  warnings.warn(\"Default parameter smoothing will change in version 2.6.\"\n",
            "\u001b[32m[I 2022-12-25 19:25:35,649]\u001b[0m Trial 3 finished with value: 0.8849038478480635 and parameters: {'n_estimators': 600, 'max_depth': 8, 'min_child_weight': 6, 'subsample': 0.7148263593346881, 'colsample_bytree': 0.8008234010783905, 'gamma': 0.1589235832202349, 'alpha': 0.10758837668460895, 'lambda': 4.725271304719835e-05, 'learning_rate': 0.06595678297896249}. Best is trial 3 with value: 0.8849038478480635.\u001b[0m\n",
            "<ipython-input-26-7593a2a3afbc>:13: FutureWarning: suggest_loguniform has been deprecated in v3.0.0. This feature will be removed in v6.0.0. See https://github.com/optuna/optuna/releases/tag/v3.0.0. Use :func:`~optuna.trial.Trial.suggest_float` instead.\n",
            "  'gamma': trial.suggest_loguniform('gamma', 1e-8, 100.0),\n",
            "<ipython-input-26-7593a2a3afbc>:14: FutureWarning: suggest_loguniform has been deprecated in v3.0.0. This feature will be removed in v6.0.0. See https://github.com/optuna/optuna/releases/tag/v3.0.0. Use :func:`~optuna.trial.Trial.suggest_float` instead.\n",
            "  'alpha': trial.suggest_loguniform('alpha', 1e-8, 100.0),\n",
            "<ipython-input-26-7593a2a3afbc>:15: FutureWarning: suggest_loguniform has been deprecated in v3.0.0. This feature will be removed in v6.0.0. See https://github.com/optuna/optuna/releases/tag/v3.0.0. Use :func:`~optuna.trial.Trial.suggest_float` instead.\n",
            "  'lambda': trial.suggest_loguniform('lambda', 1e-8, 100.0),\n",
            "/usr/local/lib/python3.8/dist-packages/category_encoders/target_encoder.py:122: FutureWarning: Default parameter min_samples_leaf will change in version 2.6.See https://github.com/scikit-learn-contrib/category_encoders/issues/327\n",
            "  warnings.warn(\"Default parameter min_samples_leaf will change in version 2.6.\"\n",
            "/usr/local/lib/python3.8/dist-packages/category_encoders/target_encoder.py:127: FutureWarning: Default parameter smoothing will change in version 2.6.See https://github.com/scikit-learn-contrib/category_encoders/issues/327\n",
            "  warnings.warn(\"Default parameter smoothing will change in version 2.6.\"\n",
            "\u001b[32m[I 2022-12-25 19:27:20,410]\u001b[0m Trial 4 finished with value: 0.8515247410775819 and parameters: {'n_estimators': 600, 'max_depth': 2, 'min_child_weight': 89, 'subsample': 0.7533084160454059, 'colsample_bytree': 0.7699769387704646, 'gamma': 0.0006111999032530663, 'alpha': 0.0066932034014723155, 'lambda': 0.15234597242015233, 'learning_rate': 0.0012556302167507428}. Best is trial 3 with value: 0.8849038478480635.\u001b[0m\n",
            "<ipython-input-26-7593a2a3afbc>:13: FutureWarning: suggest_loguniform has been deprecated in v3.0.0. This feature will be removed in v6.0.0. See https://github.com/optuna/optuna/releases/tag/v3.0.0. Use :func:`~optuna.trial.Trial.suggest_float` instead.\n",
            "  'gamma': trial.suggest_loguniform('gamma', 1e-8, 100.0),\n",
            "<ipython-input-26-7593a2a3afbc>:14: FutureWarning: suggest_loguniform has been deprecated in v3.0.0. This feature will be removed in v6.0.0. See https://github.com/optuna/optuna/releases/tag/v3.0.0. Use :func:`~optuna.trial.Trial.suggest_float` instead.\n",
            "  'alpha': trial.suggest_loguniform('alpha', 1e-8, 100.0),\n",
            "<ipython-input-26-7593a2a3afbc>:15: FutureWarning: suggest_loguniform has been deprecated in v3.0.0. This feature will be removed in v6.0.0. See https://github.com/optuna/optuna/releases/tag/v3.0.0. Use :func:`~optuna.trial.Trial.suggest_float` instead.\n",
            "  'lambda': trial.suggest_loguniform('lambda', 1e-8, 100.0),\n",
            "/usr/local/lib/python3.8/dist-packages/category_encoders/target_encoder.py:122: FutureWarning: Default parameter min_samples_leaf will change in version 2.6.See https://github.com/scikit-learn-contrib/category_encoders/issues/327\n",
            "  warnings.warn(\"Default parameter min_samples_leaf will change in version 2.6.\"\n",
            "/usr/local/lib/python3.8/dist-packages/category_encoders/target_encoder.py:127: FutureWarning: Default parameter smoothing will change in version 2.6.See https://github.com/scikit-learn-contrib/category_encoders/issues/327\n",
            "  warnings.warn(\"Default parameter smoothing will change in version 2.6.\"\n",
            "\u001b[32m[I 2022-12-25 19:33:56,199]\u001b[0m Trial 5 finished with value: 0.8855449672449658 and parameters: {'n_estimators': 800, 'max_depth': 12, 'min_child_weight': 11, 'subsample': 0.9213389538994615, 'colsample_bytree': 0.542818257565404, 'gamma': 5.294309545680173e-06, 'alpha': 3.662928103751163e-07, 'lambda': 0.00040532307798668614, 'learning_rate': 0.00561752688209016}. Best is trial 5 with value: 0.8855449672449658.\u001b[0m\n",
            "<ipython-input-26-7593a2a3afbc>:13: FutureWarning: suggest_loguniform has been deprecated in v3.0.0. This feature will be removed in v6.0.0. See https://github.com/optuna/optuna/releases/tag/v3.0.0. Use :func:`~optuna.trial.Trial.suggest_float` instead.\n",
            "  'gamma': trial.suggest_loguniform('gamma', 1e-8, 100.0),\n",
            "<ipython-input-26-7593a2a3afbc>:14: FutureWarning: suggest_loguniform has been deprecated in v3.0.0. This feature will be removed in v6.0.0. See https://github.com/optuna/optuna/releases/tag/v3.0.0. Use :func:`~optuna.trial.Trial.suggest_float` instead.\n",
            "  'alpha': trial.suggest_loguniform('alpha', 1e-8, 100.0),\n",
            "<ipython-input-26-7593a2a3afbc>:15: FutureWarning: suggest_loguniform has been deprecated in v3.0.0. This feature will be removed in v6.0.0. See https://github.com/optuna/optuna/releases/tag/v3.0.0. Use :func:`~optuna.trial.Trial.suggest_float` instead.\n",
            "  'lambda': trial.suggest_loguniform('lambda', 1e-8, 100.0),\n",
            "/usr/local/lib/python3.8/dist-packages/category_encoders/target_encoder.py:122: FutureWarning: Default parameter min_samples_leaf will change in version 2.6.See https://github.com/scikit-learn-contrib/category_encoders/issues/327\n",
            "  warnings.warn(\"Default parameter min_samples_leaf will change in version 2.6.\"\n",
            "/usr/local/lib/python3.8/dist-packages/category_encoders/target_encoder.py:127: FutureWarning: Default parameter smoothing will change in version 2.6.See https://github.com/scikit-learn-contrib/category_encoders/issues/327\n",
            "  warnings.warn(\"Default parameter smoothing will change in version 2.6.\"\n",
            "\u001b[32m[I 2022-12-25 19:36:01,687]\u001b[0m Trial 6 finished with value: 0.8730223318123431 and parameters: {'n_estimators': 200, 'max_depth': 14, 'min_child_weight': 13, 'subsample': 0.7297893325604635, 'colsample_bytree': 0.6347081971446504, 'gamma': 19.250348736041683, 'alpha': 44.21834984654106, 'lambda': 0.2892952396401348, 'learning_rate': 0.011525104988697273}. Best is trial 5 with value: 0.8855449672449658.\u001b[0m\n",
            "<ipython-input-26-7593a2a3afbc>:13: FutureWarning: suggest_loguniform has been deprecated in v3.0.0. This feature will be removed in v6.0.0. See https://github.com/optuna/optuna/releases/tag/v3.0.0. Use :func:`~optuna.trial.Trial.suggest_float` instead.\n",
            "  'gamma': trial.suggest_loguniform('gamma', 1e-8, 100.0),\n",
            "<ipython-input-26-7593a2a3afbc>:14: FutureWarning: suggest_loguniform has been deprecated in v3.0.0. This feature will be removed in v6.0.0. See https://github.com/optuna/optuna/releases/tag/v3.0.0. Use :func:`~optuna.trial.Trial.suggest_float` instead.\n",
            "  'alpha': trial.suggest_loguniform('alpha', 1e-8, 100.0),\n",
            "<ipython-input-26-7593a2a3afbc>:15: FutureWarning: suggest_loguniform has been deprecated in v3.0.0. This feature will be removed in v6.0.0. See https://github.com/optuna/optuna/releases/tag/v3.0.0. Use :func:`~optuna.trial.Trial.suggest_float` instead.\n",
            "  'lambda': trial.suggest_loguniform('lambda', 1e-8, 100.0),\n",
            "/usr/local/lib/python3.8/dist-packages/category_encoders/target_encoder.py:122: FutureWarning: Default parameter min_samples_leaf will change in version 2.6.See https://github.com/scikit-learn-contrib/category_encoders/issues/327\n",
            "  warnings.warn(\"Default parameter min_samples_leaf will change in version 2.6.\"\n",
            "/usr/local/lib/python3.8/dist-packages/category_encoders/target_encoder.py:127: FutureWarning: Default parameter smoothing will change in version 2.6.See https://github.com/scikit-learn-contrib/category_encoders/issues/327\n",
            "  warnings.warn(\"Default parameter smoothing will change in version 2.6.\"\n",
            "\u001b[32m[I 2022-12-25 19:36:20,240]\u001b[0m Trial 7 finished with value: 0.8793718562694973 and parameters: {'n_estimators': 100, 'max_depth': 4, 'min_child_weight': 57, 'subsample': 0.809637329296928, 'colsample_bytree': 0.2757681407964524, 'gamma': 0.14404637976746362, 'alpha': 0.003731179857595535, 'lambda': 44.281116031531326, 'learning_rate': 0.05338317274811444}. Best is trial 5 with value: 0.8855449672449658.\u001b[0m\n",
            "<ipython-input-26-7593a2a3afbc>:13: FutureWarning: suggest_loguniform has been deprecated in v3.0.0. This feature will be removed in v6.0.0. See https://github.com/optuna/optuna/releases/tag/v3.0.0. Use :func:`~optuna.trial.Trial.suggest_float` instead.\n",
            "  'gamma': trial.suggest_loguniform('gamma', 1e-8, 100.0),\n",
            "<ipython-input-26-7593a2a3afbc>:14: FutureWarning: suggest_loguniform has been deprecated in v3.0.0. This feature will be removed in v6.0.0. See https://github.com/optuna/optuna/releases/tag/v3.0.0. Use :func:`~optuna.trial.Trial.suggest_float` instead.\n",
            "  'alpha': trial.suggest_loguniform('alpha', 1e-8, 100.0),\n",
            "<ipython-input-26-7593a2a3afbc>:15: FutureWarning: suggest_loguniform has been deprecated in v3.0.0. This feature will be removed in v6.0.0. See https://github.com/optuna/optuna/releases/tag/v3.0.0. Use :func:`~optuna.trial.Trial.suggest_float` instead.\n",
            "  'lambda': trial.suggest_loguniform('lambda', 1e-8, 100.0),\n",
            "/usr/local/lib/python3.8/dist-packages/category_encoders/target_encoder.py:122: FutureWarning: Default parameter min_samples_leaf will change in version 2.6.See https://github.com/scikit-learn-contrib/category_encoders/issues/327\n",
            "  warnings.warn(\"Default parameter min_samples_leaf will change in version 2.6.\"\n",
            "/usr/local/lib/python3.8/dist-packages/category_encoders/target_encoder.py:127: FutureWarning: Default parameter smoothing will change in version 2.6.See https://github.com/scikit-learn-contrib/category_encoders/issues/327\n",
            "  warnings.warn(\"Default parameter smoothing will change in version 2.6.\"\n",
            "\u001b[32m[I 2022-12-25 19:37:25,635]\u001b[0m Trial 8 finished with value: 0.8717485448215587 and parameters: {'n_estimators': 800, 'max_depth': 16, 'min_child_weight': 76, 'subsample': 0.6990977388043677, 'colsample_bytree': 0.5818770120794173, 'gamma': 0.14126627858350693, 'alpha': 0.00035549650758339135, 'lambda': 84.85893976340549, 'learning_rate': 0.0025273499532317443}. Best is trial 5 with value: 0.8855449672449658.\u001b[0m\n",
            "<ipython-input-26-7593a2a3afbc>:13: FutureWarning: suggest_loguniform has been deprecated in v3.0.0. This feature will be removed in v6.0.0. See https://github.com/optuna/optuna/releases/tag/v3.0.0. Use :func:`~optuna.trial.Trial.suggest_float` instead.\n",
            "  'gamma': trial.suggest_loguniform('gamma', 1e-8, 100.0),\n",
            "<ipython-input-26-7593a2a3afbc>:14: FutureWarning: suggest_loguniform has been deprecated in v3.0.0. This feature will be removed in v6.0.0. See https://github.com/optuna/optuna/releases/tag/v3.0.0. Use :func:`~optuna.trial.Trial.suggest_float` instead.\n",
            "  'alpha': trial.suggest_loguniform('alpha', 1e-8, 100.0),\n",
            "<ipython-input-26-7593a2a3afbc>:15: FutureWarning: suggest_loguniform has been deprecated in v3.0.0. This feature will be removed in v6.0.0. See https://github.com/optuna/optuna/releases/tag/v3.0.0. Use :func:`~optuna.trial.Trial.suggest_float` instead.\n",
            "  'lambda': trial.suggest_loguniform('lambda', 1e-8, 100.0),\n",
            "/usr/local/lib/python3.8/dist-packages/category_encoders/target_encoder.py:122: FutureWarning: Default parameter min_samples_leaf will change in version 2.6.See https://github.com/scikit-learn-contrib/category_encoders/issues/327\n",
            "  warnings.warn(\"Default parameter min_samples_leaf will change in version 2.6.\"\n",
            "/usr/local/lib/python3.8/dist-packages/category_encoders/target_encoder.py:127: FutureWarning: Default parameter smoothing will change in version 2.6.See https://github.com/scikit-learn-contrib/category_encoders/issues/327\n",
            "  warnings.warn(\"Default parameter smoothing will change in version 2.6.\"\n",
            "\u001b[32m[I 2022-12-25 19:38:11,673]\u001b[0m Trial 9 finished with value: 0.8716211947726602 and parameters: {'n_estimators': 600, 'max_depth': 14, 'min_child_weight': 63, 'subsample': 0.9618369317494154, 'colsample_bytree': 0.17906508428904164, 'gamma': 82.55040224584636, 'alpha': 0.003450479218305035, 'lambda': 0.01617362325409711, 'learning_rate': 0.04027526177079707}. Best is trial 5 with value: 0.8855449672449658.\u001b[0m\n"
          ]
        }
      ]
    },
    {
      "cell_type": "code",
      "source": [
        "best_xgb_params = study.best_params\n",
        "best_xgb_params "
      ],
      "metadata": {
        "colab": {
          "base_uri": "https://localhost:8080/"
        },
        "id": "wofz54-jzWVA",
        "outputId": "307639ba-60fb-4170-acfd-ac2a22b48f0f"
      },
      "execution_count": 29,
      "outputs": [
        {
          "output_type": "execute_result",
          "data": {
            "text/plain": [
              "{'n_estimators': 800,\n",
              " 'max_depth': 12,\n",
              " 'min_child_weight': 11,\n",
              " 'subsample': 0.9213389538994615,\n",
              " 'colsample_bytree': 0.542818257565404,\n",
              " 'gamma': 5.294309545680173e-06,\n",
              " 'alpha': 3.662928103751163e-07,\n",
              " 'lambda': 0.00040532307798668614,\n",
              " 'learning_rate': 0.00561752688209016}"
            ]
          },
          "metadata": {},
          "execution_count": 29
        }
      ]
    },
    {
      "cell_type": "code",
      "source": [
        "\n",
        "train_all_preprocessed = ct.fit_transform(train_split_X, train_split_y)\n",
        "test_all_preprocessed = ct.transform(test_X)"
      ],
      "metadata": {
        "colab": {
          "base_uri": "https://localhost:8080/"
        },
        "id": "Hja7K8cazWK4",
        "outputId": "4d5cbeaa-ceca-4d63-c866-b17f5c847621"
      },
      "execution_count": 30,
      "outputs": [
        {
          "output_type": "stream",
          "name": "stderr",
          "text": [
            "/usr/local/lib/python3.8/dist-packages/category_encoders/target_encoder.py:122: FutureWarning: Default parameter min_samples_leaf will change in version 2.6.See https://github.com/scikit-learn-contrib/category_encoders/issues/327\n",
            "  warnings.warn(\"Default parameter min_samples_leaf will change in version 2.6.\"\n",
            "/usr/local/lib/python3.8/dist-packages/category_encoders/target_encoder.py:127: FutureWarning: Default parameter smoothing will change in version 2.6.See https://github.com/scikit-learn-contrib/category_encoders/issues/327\n",
            "  warnings.warn(\"Default parameter smoothing will change in version 2.6.\"\n"
          ]
        }
      ]
    },
    {
      "cell_type": "code",
      "source": [
        "model = xgb.XGBClassifier(**best_xgb_params)"
      ],
      "metadata": {
        "id": "B0mkNiI3zV_f"
      },
      "execution_count": 31,
      "outputs": []
    },
    {
      "cell_type": "code",
      "source": [
        "model.fit(train_all_preprocessed, train_split_y.values.ravel())"
      ],
      "metadata": {
        "colab": {
          "base_uri": "https://localhost:8080/"
        },
        "id": "DmG8AmO5zVzV",
        "outputId": "d6a53b2c-b0f1-492f-f1e4-d5ec4e336fb1"
      },
      "execution_count": 34,
      "outputs": [
        {
          "output_type": "execute_result",
          "data": {
            "text/plain": [
              "XGBClassifier(alpha=3.662928103751163e-07, colsample_bytree=0.542818257565404,\n",
              "              gamma=5.294309545680173e-06, lambda=0.00040532307798668614,\n",
              "              learning_rate=0.00561752688209016, max_depth=12,\n",
              "              min_child_weight=11, n_estimators=800,\n",
              "              subsample=0.9213389538994615)"
            ]
          },
          "metadata": {},
          "execution_count": 34
        }
      ]
    },
    {
      "cell_type": "code",
      "source": [
        "xgb_pickle_name = \"best_xgb_params_feb-2021.pkl\"\n",
        "with open(xgb_pickle_name, \"wb\") as file:\n",
        "    pickle.dump(best_xgb_params, file)"
      ],
      "metadata": {
        "id": "EGbvRZ31zVlt"
      },
      "execution_count": 35,
      "outputs": []
    },
    {
      "cell_type": "code",
      "source": [],
      "metadata": {
        "id": "VTZn3nq6zVZI"
      },
      "execution_count": null,
      "outputs": []
    },
    {
      "cell_type": "code",
      "source": [],
      "metadata": {
        "id": "wcvrT9WSzU9A"
      },
      "execution_count": null,
      "outputs": []
    },
    {
      "cell_type": "code",
      "source": [
        "#Ideas: separte lists for binary, ordinal and nominal categoroes "
      ],
      "metadata": {
        "execution": {
          "iopub.status.busy": "2022-12-25T17:31:53.813120Z",
          "iopub.status.idle": "2022-12-25T17:31:53.813878Z",
          "shell.execute_reply.started": "2022-12-25T17:31:53.813599Z",
          "shell.execute_reply": "2022-12-25T17:31:53.813638Z"
        },
        "trusted": true,
        "id": "DETi0qIXa-X7"
      },
      "execution_count": null,
      "outputs": []
    },
    {
      "cell_type": "code",
      "source": [],
      "metadata": {
        "id": "eSHNU1nMzT4t"
      },
      "execution_count": null,
      "outputs": []
    }
  ]
}