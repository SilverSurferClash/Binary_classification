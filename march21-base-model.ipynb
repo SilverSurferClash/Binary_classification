{
 "cells": [
  {
   "cell_type": "code",
   "execution_count": 1,
   "id": "8e1810b9",
   "metadata": {
    "execution": {
     "iopub.execute_input": "2022-12-25T11:54:42.601070Z",
     "iopub.status.busy": "2022-12-25T11:54:42.600628Z",
     "iopub.status.idle": "2022-12-25T11:54:45.717336Z",
     "shell.execute_reply": "2022-12-25T11:54:45.716230Z"
    },
    "papermill": {
     "duration": 3.127544,
     "end_time": "2022-12-25T11:54:45.720360",
     "exception": false,
     "start_time": "2022-12-25T11:54:42.592816",
     "status": "completed"
    },
    "tags": []
   },
   "outputs": [
    {
     "data": {
      "text/html": [
       "<style type='text/css'>\n",
       ".datatable table.frame { margin-bottom: 0; }\n",
       ".datatable table.frame thead { border-bottom: none; }\n",
       ".datatable table.frame tr.coltypes td {  color: #FFFFFF;  line-height: 6px;  padding: 0 0.5em;}\n",
       ".datatable .bool    { background: #DDDD99; }\n",
       ".datatable .object  { background: #565656; }\n",
       ".datatable .int     { background: #5D9E5D; }\n",
       ".datatable .float   { background: #4040CC; }\n",
       ".datatable .str     { background: #CC4040; }\n",
       ".datatable .time    { background: #40CC40; }\n",
       ".datatable .row_index {  background: var(--jp-border-color3);  border-right: 1px solid var(--jp-border-color0);  color: var(--jp-ui-font-color3);  font-size: 9px;}\n",
       ".datatable .frame tbody td { text-align: left; }\n",
       ".datatable .frame tr.coltypes .row_index {  background: var(--jp-border-color0);}\n",
       ".datatable th:nth-child(2) { padding-left: 12px; }\n",
       ".datatable .hellipsis {  color: var(--jp-cell-editor-border-color);}\n",
       ".datatable .vellipsis {  background: var(--jp-layout-color0);  color: var(--jp-cell-editor-border-color);}\n",
       ".datatable .na {  color: var(--jp-cell-editor-border-color);  font-size: 80%;}\n",
       ".datatable .sp {  opacity: 0.25;}\n",
       ".datatable .footer { font-size: 9px; }\n",
       ".datatable .frame_dimensions {  background: var(--jp-border-color3);  border-top: 1px solid var(--jp-border-color0);  color: var(--jp-ui-font-color3);  display: inline-block;  opacity: 0.6;  padding: 1px 10px 1px 5px;}\n",
       ".datatable .frame thead tr.colnames {  background-image: url('data:image/png;base64,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');  background-repeat: repeat-x;  background-size: 14px;  height: 28px;}\n",
       "</style>\n"
      ],
      "text/plain": [
       "<IPython.core.display.HTML object>"
      ]
     },
     "metadata": {},
     "output_type": "display_data"
    }
   ],
   "source": [
    "import os\n",
    "import time\n",
    "from pathlib import Path\n",
    "import sys\n",
    "import pickle\n",
    "import joblib\n",
    "\n",
    "#Import data manipulation libaries\n",
    "import numpy as np # linear algebra\n",
    "import pandas as pd # data processing, CSV file I/O (e.g. pd.read_csv)\n",
    "\n",
    "#import ploting libraries\n",
    "import matplotlib.pyplot as plt\n",
    "import seaborn as sns\n",
    "\n",
    "#Splitting the data and cross-validation\n",
    "from sklearn.model_selection import train_test_split, GridSearchCV, cross_validate, cross_val_score,KFold, GroupKFold, StratifiedKFold\n",
    "\n",
    "#Metrics\n",
    "#from sklearn.metrics import classification_report,accuracy_score , roc_auc_score\n",
    "from sklearn.metrics import mean_squared_error, roc_auc_score\n",
    "#Classifiers\n",
    "import xgboost as xgb\n",
    "from lightgbm import LGBMClassifier\n",
    "from catboost import CatBoostClassifier\n",
    "from sklearn.linear_model import LogisticRegression, LinearRegression\n",
    "from sklearn.ensemble import RandomForestClassifier, ExtraTreesClassifier\n",
    "\n",
    "#Feature engineerring\n",
    "from sklearn.preprocessing import FunctionTransformer, StandardScaler, OneHotEncoder\n",
    "from sklearn.pipeline import Pipeline, FeatureUnion\n",
    "from sklearn.compose import ColumnTransformer, make_column_transformer\n",
    "\n",
    "#Encoding\n",
    "\n",
    "import category_encoders as ce"
   ]
  },
  {
   "cell_type": "code",
   "execution_count": 2,
   "id": "a5a8191a",
   "metadata": {
    "execution": {
     "iopub.execute_input": "2022-12-25T11:54:45.732555Z",
     "iopub.status.busy": "2022-12-25T11:54:45.732113Z",
     "iopub.status.idle": "2022-12-25T11:54:46.150796Z",
     "shell.execute_reply": "2022-12-25T11:54:46.149541Z"
    },
    "papermill": {
     "duration": 0.427706,
     "end_time": "2022-12-25T11:54:46.153479",
     "exception": false,
     "start_time": "2022-12-25T11:54:45.725773",
     "status": "completed"
    },
    "tags": []
   },
   "outputs": [],
   "source": [
    "#Optuna optimization\n",
    "\n",
    "import optuna\n",
    "from optuna import Trial, visualization\n",
    "from optuna.samplers import TPESampler"
   ]
  },
  {
   "cell_type": "code",
   "execution_count": 3,
   "id": "9df4293c",
   "metadata": {
    "execution": {
     "iopub.execute_input": "2022-12-25T11:54:46.164994Z",
     "iopub.status.busy": "2022-12-25T11:54:46.164592Z",
     "iopub.status.idle": "2022-12-25T11:54:50.770119Z",
     "shell.execute_reply": "2022-12-25T11:54:50.768767Z"
    },
    "papermill": {
     "duration": 4.614496,
     "end_time": "2022-12-25T11:54:50.772888",
     "exception": false,
     "start_time": "2022-12-25T11:54:46.158392",
     "status": "completed"
    },
    "tags": []
   },
   "outputs": [],
   "source": [
    "train_import = pd.read_csv(\"/kaggle/input/tabular-playground-series-mar-2021/train.csv\")\n",
    "test_import = pd.read_csv(\"/kaggle/input/tabular-playground-series-mar-2021/test.csv\")"
   ]
  },
  {
   "cell_type": "code",
   "execution_count": 4,
   "id": "9d011c84",
   "metadata": {
    "execution": {
     "iopub.execute_input": "2022-12-25T11:54:50.784746Z",
     "iopub.status.busy": "2022-12-25T11:54:50.784378Z",
     "iopub.status.idle": "2022-12-25T11:54:50.801572Z",
     "shell.execute_reply": "2022-12-25T11:54:50.800374Z"
    },
    "papermill": {
     "duration": 0.025931,
     "end_time": "2022-12-25T11:54:50.803720",
     "exception": false,
     "start_time": "2022-12-25T11:54:50.777789",
     "status": "completed"
    },
    "tags": []
   },
   "outputs": [],
   "source": [
    "def reduce_mem_usage(props):\n",
    "    start_mem_usg = props.memory_usage().sum() / 1024**2 \n",
    "    print(\"Memory usage of properties dataframe is :\",start_mem_usg,\" MB\")\n",
    "    NAlist = [] # Keeps track of columns that have missing values filled in. \n",
    "    for col in props.columns:\n",
    "        if props[col].dtype != object:  # Exclude strings\n",
    "            \n",
    "            # Print current column type\n",
    "            print(\"******************************\")\n",
    "            print(\"Column: \",col)\n",
    "            print(\"dtype before: \",props[col].dtype)\n",
    "                # make variables for Int, max and min\n",
    "            IsInt = False\n",
    "            mx = props[col].max()\n",
    "            mn = props[col].min()\n",
    "            \n",
    "            # Integer does not support NA, therefore, NA needs to be filled\n",
    "            if not np.isfinite(props[col]).all(): \n",
    "                NAlist.append(col)\n",
    "                props[col].fillna(mn-1,inplace=True)  \n",
    "                   \n",
    "            # test if column can be converted to an integer\n",
    "            asint = props[col].fillna(0).astype(np.int64)\n",
    "            result = (props[col] - asint)\n",
    "            result = result.sum()\n",
    "            if result > -0.01 and result < 0.01:\n",
    "                IsInt = True\n",
    "                # Make Integer/unsigned Integer datatypes\n",
    "            if IsInt:\n",
    "                if mn >= 0:\n",
    "                    if mx < 255:\n",
    "                        props[col] = props[col].astype(np.uint8)\n",
    "                    elif mx < 65535:\n",
    "                        props[col] = props[col].astype(np.uint16)\n",
    "                    elif mx < 4294967295:\n",
    "                        props[col] = props[col].astype(np.uint32)\n",
    "                    else:\n",
    "                        props[col] = props[col].astype(np.uint64)\n",
    "                else:\n",
    "                    if mn > np.iinfo(np.int8).min and mx < np.iinfo(np.int8).max:\n",
    "                        props[col] = props[col].astype(np.int8)\n",
    "                    elif mn > np.iinfo(np.int16).min and mx < np.iinfo(np.int16).max:\n",
    "                        props[col] = props[col].astype(np.int16)\n",
    "                    elif mn > np.iinfo(np.int32).min and mx < np.iinfo(np.int32).max:\n",
    "                        props[col] = props[col].astype(np.int32)\n",
    "                    elif mn > np.iinfo(np.int64).min and mx < np.iinfo(np.int64).max:\n",
    "                        props[col] = props[col].astype(np.int64)\n",
    "                          # Make float datatypes 32 bit\n",
    "            else:\n",
    "                props[col] = props[col].astype(np.float32)\n",
    "            \n",
    "            # Print new column type\n",
    "            print(\"dtype after: \",props[col].dtype)\n",
    "            print(\"******************************\")\n",
    "    \n",
    "    # Print final result\n",
    "    print(\"___MEMORY USAGE AFTER COMPLETION:___\")\n",
    "    mem_usg = props.memory_usage().sum() / 1024**2 \n",
    "    print(\"Memory usage is: \",mem_usg,\" MB\")\n",
    "    print(\"This is \",100*mem_usg/start_mem_usg,\"% of the initial size\")\n",
    "    return props, NAlist"
   ]
  },
  {
   "cell_type": "code",
   "execution_count": 5,
   "id": "bd240a10",
   "metadata": {
    "execution": {
     "iopub.execute_input": "2022-12-25T11:54:50.814851Z",
     "iopub.status.busy": "2022-12-25T11:54:50.814463Z",
     "iopub.status.idle": "2022-12-25T11:54:50.819544Z",
     "shell.execute_reply": "2022-12-25T11:54:50.818382Z"
    },
    "papermill": {
     "duration": 0.013499,
     "end_time": "2022-12-25T11:54:50.822030",
     "exception": false,
     "start_time": "2022-12-25T11:54:50.808531",
     "status": "completed"
    },
    "tags": []
   },
   "outputs": [],
   "source": [
    "#reduce_mem_usage(train_import)"
   ]
  },
  {
   "cell_type": "code",
   "execution_count": 6,
   "id": "ee88cbd3",
   "metadata": {
    "execution": {
     "iopub.execute_input": "2022-12-25T11:54:50.833663Z",
     "iopub.status.busy": "2022-12-25T11:54:50.833267Z",
     "iopub.status.idle": "2022-12-25T11:54:50.847715Z",
     "shell.execute_reply": "2022-12-25T11:54:50.846310Z"
    },
    "papermill": {
     "duration": 0.023488,
     "end_time": "2022-12-25T11:54:50.850415",
     "exception": false,
     "start_time": "2022-12-25T11:54:50.826927",
     "status": "completed"
    },
    "tags": []
   },
   "outputs": [],
   "source": [
    "# List of colums based on their function\n",
    "# Target\n",
    "target_label  = \"target\"\n",
    "# List of all features\n",
    "all_feature = [col for col in train_import.columns if col not in [\"target\", \"id\"]]\n",
    "# List of numeric features\n",
    "all_numeric = [col for col in all_feature if train_import[col].dtype == \"float64\"]\n",
    "# List of all categorical features\n",
    "all_categorical = [col for col in all_feature if train_import[col].dtype == \"object\"]\n",
    "\n",
    "high_cardinal = \"cat10\"\n",
    "\n",
    "low_cardinal = ['cat0',\n",
    " 'cat1',\n",
    " 'cat2',\n",
    " 'cat3',\n",
    " 'cat4',\n",
    " 'cat5',\n",
    " 'cat6',\n",
    " 'cat7',\n",
    " 'cat8',\n",
    " 'cat9',\n",
    " 'cat11',\n",
    " 'cat12',\n",
    " 'cat13',\n",
    " 'cat14',\n",
    " 'cat15',\n",
    " 'cat16',\n",
    " 'cat17',\n",
    " 'cat18']"
   ]
  },
  {
   "cell_type": "code",
   "execution_count": 7,
   "id": "e7f42f58",
   "metadata": {
    "execution": {
     "iopub.execute_input": "2022-12-25T11:54:50.861686Z",
     "iopub.status.busy": "2022-12-25T11:54:50.861308Z",
     "iopub.status.idle": "2022-12-25T11:54:50.967533Z",
     "shell.execute_reply": "2022-12-25T11:54:50.966403Z"
    },
    "papermill": {
     "duration": 0.114787,
     "end_time": "2022-12-25T11:54:50.970062",
     "exception": false,
     "start_time": "2022-12-25T11:54:50.855275",
     "status": "completed"
    },
    "tags": []
   },
   "outputs": [
    {
     "data": {
      "text/plain": [
       "((15000, 30), (15000,), (200000, 30))"
      ]
     },
     "execution_count": 7,
     "metadata": {},
     "output_type": "execute_result"
    }
   ],
   "source": [
    "#Create the training feature matrix, the training feature labels and the same for the\n",
    "#validation set\n",
    "train = train_import.sample(frac = 0.05).copy().reset_index()\n",
    "train_X = train.loc[:, all_feature]\n",
    "train_y = train.loc[:, target_label].values\n",
    "test_X = test_import.loc[:, all_feature]\n",
    "train_X.shape, train_y.shape, test_X.shape"
   ]
  },
  {
   "cell_type": "code",
   "execution_count": 8,
   "id": "09e9fdaf",
   "metadata": {
    "execution": {
     "iopub.execute_input": "2022-12-25T11:54:50.981908Z",
     "iopub.status.busy": "2022-12-25T11:54:50.981531Z",
     "iopub.status.idle": "2022-12-25T11:54:50.988861Z",
     "shell.execute_reply": "2022-12-25T11:54:50.987648Z"
    },
    "papermill": {
     "duration": 0.01622,
     "end_time": "2022-12-25T11:54:50.991320",
     "exception": false,
     "start_time": "2022-12-25T11:54:50.975100",
     "status": "completed"
    },
    "tags": []
   },
   "outputs": [],
   "source": [
    "# Helper Code to make the code adaptible for the future\n",
    "train_split_X = train_X.copy()\n",
    "train_split_y = pd.DataFrame(train_y.copy())"
   ]
  },
  {
   "cell_type": "code",
   "execution_count": 9,
   "id": "f41f379e",
   "metadata": {
    "execution": {
     "iopub.execute_input": "2022-12-25T11:54:51.003944Z",
     "iopub.status.busy": "2022-12-25T11:54:51.003007Z",
     "iopub.status.idle": "2022-12-25T11:54:51.009840Z",
     "shell.execute_reply": "2022-12-25T11:54:51.007990Z"
    },
    "papermill": {
     "duration": 0.01628,
     "end_time": "2022-12-25T11:54:51.012648",
     "exception": false,
     "start_time": "2022-12-25T11:54:50.996368",
     "status": "completed"
    },
    "tags": []
   },
   "outputs": [],
   "source": [
    "#Set up validation scheme\n",
    "n_folds = 5\n",
    "splitter = StratifiedKFold(n_splits=n_folds)"
   ]
  },
  {
   "cell_type": "code",
   "execution_count": 10,
   "id": "a7b672fe",
   "metadata": {
    "execution": {
     "iopub.execute_input": "2022-12-25T11:54:51.025011Z",
     "iopub.status.busy": "2022-12-25T11:54:51.024574Z",
     "iopub.status.idle": "2022-12-25T11:54:51.031220Z",
     "shell.execute_reply": "2022-12-25T11:54:51.029591Z"
    },
    "papermill": {
     "duration": 0.015904,
     "end_time": "2022-12-25T11:54:51.033891",
     "exception": false,
     "start_time": "2022-12-25T11:54:51.017987",
     "status": "completed"
    },
    "tags": []
   },
   "outputs": [],
   "source": [
    "preprocess_continuous = Pipeline(steps=[('scaler', StandardScaler())])\n",
    "preprocess_categorical = Pipeline(steps=[('encoder',\n",
    "ce.OneHotEncoder(cols=all_categorical))])"
   ]
  },
  {
   "cell_type": "code",
   "execution_count": 11,
   "id": "39f8fd3b",
   "metadata": {
    "execution": {
     "iopub.execute_input": "2022-12-25T11:54:51.046038Z",
     "iopub.status.busy": "2022-12-25T11:54:51.045565Z",
     "iopub.status.idle": "2022-12-25T11:54:51.051438Z",
     "shell.execute_reply": "2022-12-25T11:54:51.050078Z"
    },
    "papermill": {
     "duration": 0.014809,
     "end_time": "2022-12-25T11:54:51.053856",
     "exception": false,
     "start_time": "2022-12-25T11:54:51.039047",
     "status": "completed"
    },
    "tags": []
   },
   "outputs": [],
   "source": [
    "ct = ColumnTransformer(\n",
    "transformers=[('continuous', #A\n",
    "preprocess_continuous, all_numeric),\n",
    "('categorical', #B\n",
    "preprocess_categorical, all_categorical)],\n",
    "remainder='passthrough')"
   ]
  },
  {
   "cell_type": "code",
   "execution_count": 12,
   "id": "bbcb93b8",
   "metadata": {
    "execution": {
     "iopub.execute_input": "2022-12-25T11:54:51.066868Z",
     "iopub.status.busy": "2022-12-25T11:54:51.066448Z",
     "iopub.status.idle": "2022-12-25T11:54:51.072443Z",
     "shell.execute_reply": "2022-12-25T11:54:51.071236Z"
    },
    "papermill": {
     "duration": 0.015649,
     "end_time": "2022-12-25T11:54:51.074924",
     "exception": false,
     "start_time": "2022-12-25T11:54:51.059275",
     "status": "completed"
    },
    "tags": []
   },
   "outputs": [],
   "source": [
    "model = xgb.XGBClassifier(objective=\"binary:logistic\", random_state=42)"
   ]
  },
  {
   "cell_type": "code",
   "execution_count": 13,
   "id": "377624f9",
   "metadata": {
    "execution": {
     "iopub.execute_input": "2022-12-25T11:54:51.088124Z",
     "iopub.status.busy": "2022-12-25T11:54:51.087012Z",
     "iopub.status.idle": "2022-12-25T11:54:51.092443Z",
     "shell.execute_reply": "2022-12-25T11:54:51.091252Z"
    },
    "papermill": {
     "duration": 0.015059,
     "end_time": "2022-12-25T11:54:51.095286",
     "exception": false,
     "start_time": "2022-12-25T11:54:51.080227",
     "status": "completed"
    },
    "tags": []
   },
   "outputs": [],
   "source": [
    "#model = LogisticRegression()"
   ]
  },
  {
   "cell_type": "code",
   "execution_count": 14,
   "id": "136e77d0",
   "metadata": {
    "execution": {
     "iopub.execute_input": "2022-12-25T11:54:51.108697Z",
     "iopub.status.busy": "2022-12-25T11:54:51.108269Z",
     "iopub.status.idle": "2022-12-25T11:56:04.669475Z",
     "shell.execute_reply": "2022-12-25T11:56:04.668575Z"
    },
    "papermill": {
     "duration": 73.576876,
     "end_time": "2022-12-25T11:56:04.677518",
     "exception": false,
     "start_time": "2022-12-25T11:54:51.100642",
     "status": "completed"
    },
    "tags": []
   },
   "outputs": [
    {
     "name": "stdout",
     "output_type": "stream",
     "text": [
      "The average training ROC is 0.989\n",
      "The average validation ROC is 0.873\n"
     ]
    }
   ],
   "source": [
    "train_list = [] # An numpy array with a length of the number of folds\n",
    "val_list = []\n",
    "\n",
    "\n",
    "#for i, rate in enumerate(learning_rates): #D\n",
    "for trn, val in splitter.split(train_split_X, train_split_y): #Create indexes for the train and validation set  \n",
    "    \n",
    "    Xtrain = train_split_X.iloc[trn]\n",
    "    Xval = train_split_X.iloc[val]\n",
    "    ytrain = train_split_y.iloc[trn]\n",
    "    yval = train_split_y.iloc[val]\n",
    "    \n",
    "    Xtrain_prepocessed = ct.fit_transform(Xtrain, ytrain)\n",
    "    Xval_preprocessed = ct.transform(Xval)\n",
    "    \n",
    "    model.fit(Xtrain_prepocessed, ytrain)\n",
    "  \n",
    "    train_pred =  model.predict_proba(Xtrain_prepocessed)[:,1]\n",
    "    train_score = roc_auc_score(ytrain, train_pred)\n",
    "    \n",
    "    \n",
    "    valid_pred = model.predict_proba(Xval_preprocessed)[:,1]\n",
    "    valid_score = roc_auc_score(yval, valid_pred)\n",
    "\n",
    "    \n",
    "    train_list.append(train_score)\n",
    "    \n",
    "    val_list.append(valid_score)\n",
    "    # Append the results from the importance score to a list\n",
    "    \n",
    "    \n",
    "print(f\"The average training ROC is {np.mean(train_list):.3f}\")\n",
    "print(f\"The average validation ROC is {np.mean(val_list):.3f}\")"
   ]
  },
  {
   "cell_type": "code",
   "execution_count": 15,
   "id": "1ccb9d56",
   "metadata": {
    "execution": {
     "iopub.execute_input": "2022-12-25T11:56:04.689255Z",
     "iopub.status.busy": "2022-12-25T11:56:04.688811Z",
     "iopub.status.idle": "2022-12-25T11:56:04.694741Z",
     "shell.execute_reply": "2022-12-25T11:56:04.693550Z"
    },
    "papermill": {
     "duration": 0.014474,
     "end_time": "2022-12-25T11:56:04.697136",
     "exception": false,
     "start_time": "2022-12-25T11:56:04.682662",
     "status": "completed"
    },
    "tags": []
   },
   "outputs": [
    {
     "name": "stdout",
     "output_type": "stream",
     "text": [
      "The average validation ROC is 0.873\n"
     ]
    }
   ],
   "source": [
    "print(f\"The average validation ROC is {np.mean(val_list):.3f}\")"
   ]
  },
  {
   "cell_type": "code",
   "execution_count": 16,
   "id": "998325e2",
   "metadata": {
    "execution": {
     "iopub.execute_input": "2022-12-25T11:56:04.708918Z",
     "iopub.status.busy": "2022-12-25T11:56:04.708485Z",
     "iopub.status.idle": "2022-12-25T11:56:04.713276Z",
     "shell.execute_reply": "2022-12-25T11:56:04.712046Z"
    },
    "papermill": {
     "duration": 0.013455,
     "end_time": "2022-12-25T11:56:04.715648",
     "exception": false,
     "start_time": "2022-12-25T11:56:04.702193",
     "status": "completed"
    },
    "tags": []
   },
   "outputs": [],
   "source": [
    "#Ideas: separte lists for binary, ordinal and nominal categoroes "
   ]
  }
 ],
 "metadata": {
  "kernelspec": {
   "display_name": "Python 3",
   "language": "python",
   "name": "python3"
  },
  "language_info": {
   "codemirror_mode": {
    "name": "ipython",
    "version": 3
   },
   "file_extension": ".py",
   "mimetype": "text/x-python",
   "name": "python",
   "nbconvert_exporter": "python",
   "pygments_lexer": "ipython3",
   "version": "3.7.12"
  },
  "papermill": {
   "default_parameters": {},
   "duration": 92.007239,
   "end_time": "2022-12-25T11:56:05.745905",
   "environment_variables": {},
   "exception": null,
   "input_path": "__notebook__.ipynb",
   "output_path": "__notebook__.ipynb",
   "parameters": {},
   "start_time": "2022-12-25T11:54:33.738666",
   "version": "2.3.4"
  }
 },
 "nbformat": 4,
 "nbformat_minor": 5
}
